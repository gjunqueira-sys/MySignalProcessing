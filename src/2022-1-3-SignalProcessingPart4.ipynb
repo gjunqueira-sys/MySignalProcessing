{
 "cells": [
  {
   "cell_type": "markdown",
   "metadata": {},
   "source": [
    "# \"Signal Processing with Julia Language- Part 4\"\n",
    "> \"Theory is nearly Implementation with Julia...\"\n",
    "- toc: true\n",
    "- badges: true\n",
    "- comments: true\n",
    "- categories: [jupyter, SignalProcessing]"
   ]
  },
  {
   "cell_type": "markdown",
   "metadata": {},
   "source": [
    "# Background Information\n",
    "\n",
    "in previous posts we have seen how to create a signal with a given amplitude and sample range, as well as presented some\n",
    "basic functions for signal processing. Now we are ready to put these functions to good use.\n",
    "\n",
    "For more information, pls see the following links:\n",
    "\n",
    "For background information, pls see [Signal Processing with Julia Language- Part I](https://gjunqueira-sys.github.io/J-J-Engineering-Blog/jupyter/signalprocessing/2021/12/27/SignalProcessingPart1.html)\n",
    "\n",
    "In part 1 we discussed how to represent a signal, and constructor functions using my signal package in Julia.\n",
    "\n",
    "My signal processing package can be found at [MySignalProcessing.jl](https://github.com/gjunqueira-sys/MySignalProcessing.jl)"
   ]
  },
  {
   "cell_type": "code",
   "execution_count": 1,
   "metadata": {},
   "outputs": [],
   "source": [
    "#collapse-show\n",
    "# Load dependencies\n",
    "\n",
    "using MySignalProcessing\n",
    "using Plots"
   ]
  },
  {
   "cell_type": "markdown",
   "metadata": {},
   "source": [
    "## Plot sequence as defined by the following equation:\n",
    "\n",
    "### $$x_1(n) = 2x(n-5) - 3x(n+4)$$"
   ]
  },
  {
   "cell_type": "markdown",
   "metadata": {},
   "source": [
    "> given the signal $$x(n) = \\{1, 2, 3, 4, 5, 6, 7, 6, 5, 4, 3, 2, 1\\} \\text{ , where } n= \\{-2, -1 , 0 , 1, 2, 3, 4, 5, 6, 7, 8, 9, 10\\}$$"
   ]
  },
  {
   "cell_type": "markdown",
   "metadata": {},
   "source": [
    "- The first part is obtained by shifting x(n) by +5  and the second part by shifting x(n) by -4. "
   ]
  },
  {
   "cell_type": "markdown",
   "metadata": {},
   "source": [
    "### 1. Lets create the given signal first:"
   ]
  },
  {
   "cell_type": "code",
   "execution_count": 2,
   "metadata": {},
   "outputs": [
    {
     "data": {
      "text/plain": [
       "signal(Real[1, 2, 3, 4, 5, 6, 7, 6, 5, 4, 3, 2, 1], Real[-2, -1, 0, 1, 2, 3, 4, 5, 6, 7, 8, 9, 10])"
      ]
     },
     "metadata": {},
     "output_type": "display_data"
    }
   ],
   "source": [
    "x = [1,2,3,4,5,6,7,6,5,4,3,2,1]; #amplitude vector\n",
    "n = [-2,-1,0,1,2,3,4,5,6,7,8,9,10]; #sample position vector\n",
    "s = signal(x,n)  # create signal from the two vectors"
   ]
  },
  {
   "cell_type": "markdown",
   "metadata": {},
   "source": [
    "### 2. We can break it down the process in parts , just to visualize better:"
   ]
  },
  {
   "cell_type": "code",
   "execution_count": 3,
   "metadata": {},
   "outputs": [],
   "source": [
    "#collapse-show\n",
    "# Original signal\n",
    "p1 = plot(s.n, s.A, line =:stem, marker=:o, color=:blue, label = \"s\", ylims = (-10,15), \n",
    "xlims=(-10,20), framestyle = :origin,xtick=-10:20,ytick=-10:15)\n",
    "\n"
   ]
  },
  {
   "cell_type": "code",
   "execution_count": null,
   "metadata": {},
   "outputs": [],
   "source": [
    "# First part of expression: shift and multiple by 2\n",
    "x₂ = 2.0 * ( s |> sigshift(5) ) ;"
   ]
  },
  {
   "cell_type": "code",
   "execution_count": null,
   "metadata": {},
   "outputs": [],
   "source": [
    "#collapse-show\n",
    "plot(x₂.n, x₂.A, line =:stem, marker=:o, color=:red, label = \"x₂\", ylims = (-10,15), \n",
    "xlims=(-10,20), framestyle = :origin, xtick=-10:20, ytick=-10:15)"
   ]
  },
  {
   "cell_type": "code",
   "execution_count": null,
   "metadata": {},
   "outputs": [],
   "source": [
    "# second part of expression: shift and multiple by -3\n",
    "x₃ = -3.0 * ( s |> sigshift(-4) ) "
   ]
  },
  {
   "cell_type": "code",
   "execution_count": null,
   "metadata": {},
   "outputs": [],
   "source": [
    "plot(x₃.n, x₃.A, line =:stem, marker=:o, color=:green, label = \"x₃\", ylims = (-25,15), \n",
    "xlims=(-10,20), framestyle = :origin, xtick=-10:20, ytick=-25:15)"
   ]
  },
  {
   "cell_type": "markdown",
   "metadata": {},
   "source": [
    "### 3. Add the two signals x₂ and x₃ together:"
   ]
  },
  {
   "cell_type": "code",
   "execution_count": null,
   "metadata": {},
   "outputs": [],
   "source": [
    "x₁ = x₂ + x₃"
   ]
  },
  {
   "cell_type": "code",
   "execution_count": null,
   "metadata": {},
   "outputs": [],
   "source": [
    "#collapse-show\n",
    "plot(x₁.n, x₁.A, line =:stem, marker=:o, color=:black, label = \"x₁\", ylims = (-25,15), \n",
    "xlims=(-10,20), framestyle = :origin, xtick=-10:20, ytick=-25:15)"
   ]
  },
  {
   "cell_type": "markdown",
   "metadata": {},
   "source": [
    "### 4. Off course , we could have just written everything at once, just like the theory:\n",
    "\n",
    "```julia\n",
    "\n",
    "x₁ = 2.0 * ( s |> sigshift(5) ) + (-3.0) * ( s |> sigshift(-4) )\n",
    "```"
   ]
  },
  {
   "cell_type": "code",
   "execution_count": null,
   "metadata": {},
   "outputs": [],
   "source": [
    "x₁ = 2.0 * ( s |> sigshift(5) ) + (-3.0) * ( s |> sigshift(-4) )"
   ]
  },
  {
   "cell_type": "code",
   "execution_count": null,
   "metadata": {},
   "outputs": [],
   "source": [
    "#collapse-show\n",
    "\n",
    "p1 = plot(s.n, s.A, line =:stem, marker=:o, color=:blue, label = \"s\", ylims = (-10,15), \n",
    "xlims=(-10,20), framestyle = :origin, xtick=-10:20, ytick=-10:15);\n",
    "\n",
    "p2 = plot(x₁.n, x₁.A, line =:stem, marker=:o, color=:black, label = \"x₁\", ylims = (-25,15), \n",
    "xlims=(-10,20), framestyle = :origin, xtick=-10:20, ytick=-25:15);\n",
    "\n",
    "plot(p1,p2, layout = (2,1), size = (800,800))"
   ]
  },
  {
   "cell_type": "code",
   "execution_count": null,
   "metadata": {},
   "outputs": [],
   "source": []
  },
  {
   "cell_type": "code",
   "execution_count": null,
   "metadata": {},
   "outputs": [],
   "source": []
  },
  {
   "cell_type": "code",
   "execution_count": null,
   "metadata": {},
   "outputs": [],
   "source": []
  }
 ],
 "metadata": {
  "kernelspec": {
   "display_name": "Julia 1.7.0",
   "language": "julia",
   "name": "julia-1.7"
  },
  "language_info": {
   "file_extension": ".jl",
   "mimetype": "application/julia",
   "name": "julia",
   "version": "1.7.0"
  },
  "orig_nbformat": 4
 },
 "nbformat": 4,
 "nbformat_minor": 2
}
