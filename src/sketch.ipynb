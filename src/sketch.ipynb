{
 "cells": [
  {
   "cell_type": "markdown",
   "metadata": {},
   "source": [
    "δ(n) = \\begin{cases}\n",
    "        1, \\quad &\\text{if} \\, n\\eq 0 \\\\\n",
    "        0, \\quad &\\text{if} \\, n\\ne 0 \\\\\n",
    "        \\end{cases}"
   ]
  },
  {
   "cell_type": "markdown",
   "metadata": {},
   "source": []
  }
 ],
 "metadata": {
  "language_info": {
   "name": "plaintext"
  },
  "orig_nbformat": 4
 },
 "nbformat": 4,
 "nbformat_minor": 2
}
